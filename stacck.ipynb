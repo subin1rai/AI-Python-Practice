{
 "cells": [
  {
   "cell_type": "code",
   "execution_count": 1,
   "metadata": {},
   "outputs": [],
   "source": [
    "class Hello:\n",
    "        def __init__ ( self,name,age):\n",
    "            self.name =name\n",
    "            self.age=age\n",
    "\n",
    "        def print_info(self):\n",
    "            print(f\"{self.name} age is {self.age} years old !\")\n",
    "\n"
   ]
  },
  {
   "cell_type": "code",
   "execution_count": 2,
   "metadata": {},
   "outputs": [
    {
     "name": "stdout",
     "output_type": "stream",
     "text": [
      "subin rai age is [10, 230] years old !\n"
     ]
    }
   ],
   "source": [
    "\n",
    "subin = Hello(\"subin rai\",[10,230])\n",
    "subin.print_info()"
   ]
  },
  {
   "cell_type": "code",
   "execution_count": 3,
   "metadata": {},
   "outputs": [],
   "source": [
    "\n",
    "class Stack:\n",
    "    def __init__(self,init_value):\n",
    "        self.stack= [init_value]\n",
    "\n",
    "    def push(self,value):\n",
    "        self.stack.append(value)\n",
    "    \n",
    "    def pop(self):\n",
    "        if len(self.stack)>0:\n",
    "            return self.stack.pop()\n",
    "        else:\n",
    "            print(\"Error: Empty;\")\n",
    "\n",
    "    def top(self):\n",
    "        len_stack = len(self.stack)\n",
    "        index = len_stack-1\n",
    "        return self.stacl[index] "
   ]
  },
  {
   "cell_type": "code",
   "execution_count": 4,
   "metadata": {},
   "outputs": [],
   "source": [
    "stack_01 = Stack(100)\n",
    "stack_01.push(101)\n",
    "stack_01.push(102)\n",
    "stack_01.push(103)"
   ]
  },
  {
   "cell_type": "code",
   "execution_count": 5,
   "metadata": {},
   "outputs": [
    {
     "name": "stdout",
     "output_type": "stream",
     "text": [
      "100\n"
     ]
    }
   ],
   "source": [
    "stack_02 = Stack(100)\n",
    "print(stack_02.pop())"
   ]
  },
  {
   "cell_type": "code",
   "execution_count": 6,
   "metadata": {},
   "outputs": [
    {
     "name": "stdout",
     "output_type": "stream",
     "text": [
      "103\n",
      "None\n",
      "None\n",
      "106\n"
     ]
    }
   ],
   "source": [
    "print(stack_01.pop())\n",
    "print(stack_01.push(105))\n",
    "print(stack_01.push(106))\n",
    "print(stack_01.pop())\n",
    "\n"
   ]
  },
  {
   "cell_type": "code",
   "execution_count": 7,
   "metadata": {},
   "outputs": [],
   "source": [
    "class BooksNumber:\n",
    "    def __init__(self,book_value):\n",
    "        self.stack = [book_value]\n",
    "\n",
    "    def push(self,value):\n",
    "        self.stack.append(value)\n",
    "    \n",
    "    def pop(self):\n",
    "        if len(self.stack)>0:\n",
    "            return self.stack.pop()\n",
    "        else:\n",
    "            print(\"error: empty\")"
   ]
  },
  {
   "cell_type": "code",
   "execution_count": 8,
   "metadata": {},
   "outputs": [],
   "source": [
    "book = BooksNumber(200)\n",
    "book.push(102)\n",
    "book.push(103)\n",
    "book.push(104)\n"
   ]
  },
  {
   "cell_type": "code",
   "execution_count": 9,
   "metadata": {},
   "outputs": [
    {
     "name": "stdout",
     "output_type": "stream",
     "text": [
      "104\n"
     ]
    }
   ],
   "source": [
    "print(book.pop())\n",
    "print(book.pop())"
   ]
  }
 ],
 "metadata": {
  "kernelspec": {
   "display_name": "Python 3",
   "language": "python",
   "name": "python3"
  },
  "language_info": {
   "codemirror_mode": {
    "name": "ipython",
    "version": 3
   },
   "file_extension": ".py",
   "mimetype": "text/x-python",
   "name": "python",
   "nbconvert_exporter": "python",
   "pygments_lexer": "ipython3",
   "version": "3.12.1"
  }
 },
 "nbformat": 4,
 "nbformat_minor": 2
}
