{
 "cells": [
  {
   "cell_type": "code",
   "execution_count": 18,
   "metadata": {},
   "outputs": [],
   "source": [
    "class Hello:\n",
    "        def __init__ ( self,name,age):\n",
    "            self.name =name\n",
    "            self.age=age\n",
    "\n",
    "        def print_info(self):\n",
    "            print(f\"{self.name} age is {self.age} years old !\")\n",
    "\n"
   ]
  },
  {
   "cell_type": "code",
   "execution_count": 20,
   "metadata": {},
   "outputs": [
    {
     "name": "stdout",
     "output_type": "stream",
     "text": [
      "subin rai age is [10, 230] years old !\n"
     ]
    }
   ],
   "source": [
    "\n",
    "subin = Hello(\"subin rai\",[10,230])\n",
    "subin.print_info()"
   ]
  },
  {
   "cell_type": "code",
   "execution_count": 33,
   "metadata": {},
   "outputs": [],
   "source": [
    "\n",
    "class Stack:\n",
    "    def __init__(self,init_value):\n",
    "        self.stack= [init_value]\n",
    "\n",
    "    def push(self,value):\n",
    "        self.stack.append(value)\n",
    "    \n",
    "    def pop(self):\n",
    "       if len(self.stack)>0:\n",
    "         return self.stack.pop()\n",
    "        else:\n",
    "            print(\"Error: Empty;\")\n",
    "\n",
    "    def top(self):\n",
    "        len_stack = len(self.stack)\n",
    "        index = len_stack-1\n",
    "        return self.stacl[index] "
   ]
  },
  {
   "cell_type": "code",
   "execution_count": 34,
   "metadata": {},
   "outputs": [],
   "source": [
    "stack_01 = Stack(100)\n",
    "stack_01.push(101)\n",
    "stack_01.push(102)\n",
    "stack_01.push(103)"
   ]
  },
  {
   "cell_type": "code",
   "execution_count": 36,
   "metadata": {},
   "outputs": [
    {
     "name": "stdout",
     "output_type": "stream",
     "text": [
      "106\n",
      "None\n",
      "None\n",
      "106\n"
     ]
    }
   ],
   "source": [
    "print(stack_01.pop())\n",
    "print(stack_01.push(105))\n",
    "print(stack_01.push(106))\n",
    "print(stack_01.pop())\n",
    "\n"
   ]
  }
 ],
 "metadata": {
  "kernelspec": {
   "display_name": "Python 3",
   "language": "python",
   "name": "python3"
  },
  "language_info": {
   "codemirror_mode": {
    "name": "ipython",
    "version": 3
   },
   "file_extension": ".py",
   "mimetype": "text/x-python",
   "name": "python",
   "nbconvert_exporter": "python",
   "pygments_lexer": "ipython3",
   "version": "3.12.1"
  }
 },
 "nbformat": 4,
 "nbformat_minor": 2
}
