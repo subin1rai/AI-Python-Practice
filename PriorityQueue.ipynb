{
 "cells": [
  {
   "cell_type": "markdown",
   "metadata": {},
   "source": [
    "PRIORITY QUEUE"
   ]
  },
  {
   "cell_type": "code",
   "execution_count": null,
   "metadata": {},
   "outputs": [],
   "source": []
  },
  {
   "cell_type": "code",
   "execution_count": 26,
   "metadata": {},
   "outputs": [],
   "source": [
    "class PriorityQueue:\n",
    "    def __init__(self, init_value):\n",
    "        self.queue = [init_value]\n",
    "        \n",
    "    def enqueue (self,value):\n",
    "        self.queue.append(value)\n",
    "    \n",
    "    def see_first_priority(self):\n",
    "        return max(self.queue)\n",
    "    \n",
    "    def all_print(self):\n",
    "        for value in self.queue:\n",
    "            print(value)\n"
   ]
  },
  {
   "cell_type": "code",
   "execution_count": 27,
   "metadata": {},
   "outputs": [
    {
     "name": "stdout",
     "output_type": "stream",
     "text": [
      "404\n",
      "200\n",
      "201\n",
      "201\n",
      "404\n",
      "400\n",
      "None\n"
     ]
    }
   ],
   "source": [
    "pq = PriorityQueue(200)\n",
    "pq.enqueue(201)\n",
    "pq.enqueue(201)\n",
    "pq.enqueue(404)\n",
    "pq.enqueue(400)\n",
    "print(pq.see_first_priority())\n",
    "\n",
    "print(pq.all_print())"
   ]
  }
 ],
 "metadata": {
  "kernelspec": {
   "display_name": "Python 3",
   "language": "python",
   "name": "python3"
  },
  "language_info": {
   "codemirror_mode": {
    "name": "ipython",
    "version": 3
   },
   "file_extension": ".py",
   "mimetype": "text/x-python",
   "name": "python",
   "nbconvert_exporter": "python",
   "pygments_lexer": "ipython3",
   "version": "3.12.1"
  }
 },
 "nbformat": 4,
 "nbformat_minor": 2
}
