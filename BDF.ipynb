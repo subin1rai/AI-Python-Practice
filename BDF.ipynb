{
 "cells": [
  {
   "cell_type": "code",
   "execution_count": 9,
   "metadata": {},
   "outputs": [],
   "source": [
    "model = {\"S\":[\"A\",\"B\",\"C\"],\n",
    "         \"A\":[\"S\",\"D\"],\n",
    "         \"B\":[\"S\",\"E\",\"D\",\"G\"],\n",
    "         \"C\":[\"S\",\"E\"],\n",
    "         \"D\":[\"A\",\"F\",\"B\"],\n",
    "         \"F\":[\"D\",\"G\",\"E\"],\n",
    "         \"E\":[\"C\",\"F\",\"H\",\"B\"],\n",
    "         \"H\":[\"E\",\"G\"],\n",
    "         \"G\":[\"F\",\"B\",\"H\"]\n",
    "        }"
   ]
  },
  {
   "cell_type": "code",
   "execution_count": 10,
   "metadata": {},
   "outputs": [
    {
     "name": "stdout",
     "output_type": "stream",
     "text": [
      "frontier  ['S']\n",
      "value  S\n",
      "explored  ['S']\n",
      "frontirer before extend  []\n",
      "frontier after extend  ['C', 'B', 'A']\n",
      "\n",
      "frontier  ['C', 'B', 'A']\n",
      "value  A\n",
      "explored  ['S', 'A']\n",
      "frontirer before extend  ['C', 'B']\n",
      "frontier after extend  ['C', 'B', 'D']\n",
      "\n",
      "frontier  ['C', 'B', 'D']\n",
      "value  D\n",
      "explored  ['S', 'A', 'D']\n",
      "frontirer before extend  ['C', 'B']\n",
      "frontier after extend  ['C', 'B', 'F']\n",
      "\n",
      "frontier  ['C', 'B', 'F']\n",
      "value  F\n",
      "explored  ['S', 'A', 'D', 'F']\n",
      "frontirer before extend  ['C', 'B']\n",
      "frontier after extend  ['C', 'B', 'E', 'G']\n",
      "\n",
      "frontier  ['C', 'B', 'E', 'G']\n",
      "value  G\n",
      "explored  ['S', 'A', 'D', 'F', 'G']\n",
      "frontirer before extend  ['C', 'B', 'E']\n",
      "frontier after extend  ['C', 'B', 'E', 'H']\n",
      "\n",
      "frontier  ['C', 'B', 'E', 'H']\n",
      "value  H\n",
      "explored  ['S', 'A', 'D', 'F', 'G', 'H']\n",
      "frontirer before extend  ['C', 'B', 'E']\n",
      "frontier after extend  ['C', 'B', 'E']\n",
      "\n",
      "frontier  ['C', 'B', 'E']\n",
      "value  E\n",
      "explored  ['S', 'A', 'D', 'F', 'G', 'H', 'E']\n",
      "frontirer before extend  ['C', 'B']\n",
      "frontier after extend  ['C', 'B']\n",
      "\n",
      "frontier  ['C', 'B']\n",
      "value  B\n",
      "explored  ['S', 'A', 'D', 'F', 'G', 'H', 'E', 'B']\n",
      "frontirer before extend  ['C']\n",
      "frontier after extend  ['C']\n",
      "\n",
      "frontier  ['C']\n",
      "value  C\n",
      "explored  ['S', 'A', 'D', 'F', 'G', 'H', 'E', 'B', 'C']\n",
      "frontirer before extend  []\n",
      "frontier after extend  []\n",
      "\n",
      "\n",
      "['S', 'A', 'D', 'F', 'G', 'H', 'E', 'B', 'C']\n"
     ]
    }
   ],
   "source": [
    "initial = \"S\"\n",
    "\n",
    "frontier = [initial]\n",
    "explored= []\n",
    "\n",
    "while frontier:\n",
    "    print(\"frontier \", frontier)\n",
    "    value = frontier.pop()\n",
    "    if value not in explored:\n",
    "        print(\"value \", value)\n",
    "        explored.append(value)\n",
    "        print(\"explored \", explored)\n",
    "        print(\"frontirer before extend \", frontier)\n",
    "        new_frontier = [val for val in model[value] if val not in explored and val not in frontier][::-1]\n",
    "        frontier.extend(new_frontier)\n",
    "        print(\"frontier after extend \", frontier)\n",
    "        print()\n",
    "\n",
    "print()\n",
    "print(explored)"
   ]
  }
 ],
 "metadata": {
  "kernelspec": {
   "display_name": "Python 3",
   "language": "python",
   "name": "python3"
  },
  "language_info": {
   "codemirror_mode": {
    "name": "ipython",
    "version": 3
   },
   "file_extension": ".py",
   "mimetype": "text/x-python",
   "name": "python",
   "nbconvert_exporter": "python",
   "pygments_lexer": "ipython3",
   "version": "3.12.1"
  }
 },
 "nbformat": 4,
 "nbformat_minor": 2
}
