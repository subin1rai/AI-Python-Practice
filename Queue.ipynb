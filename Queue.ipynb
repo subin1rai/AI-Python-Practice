{
 "cells": [
  {
   "cell_type": "markdown",
   "metadata": {},
   "source": [
    "Queue"
   ]
  },
  {
   "cell_type": "code",
   "execution_count": 1,
   "metadata": {},
   "outputs": [],
   "source": [
    "from collections import deque "
   ]
  },
  {
   "cell_type": "code",
   "execution_count": 53,
   "metadata": {},
   "outputs": [],
   "source": [
    "class Queue:\n",
    "    def __init__(self,value):\n",
    "        self.queue = deque()\n",
    "        \n",
    "    def enqueue(self,value):\n",
    "        self.queue.appendleft(value)\n",
    "    \n",
    "    def dequeue(self):\n",
    "        if len(self.queue) >0:\n",
    "            self.queue.popleft()\n",
    "        else:\n",
    "            print(\"Empty list\")\n",
    "            \n",
    "    def front(self):\n",
    "        if len(self.queue)>0:\n",
    "            return self.queue[0]\n",
    "        else:\n",
    "            print(\"Empty list\")\n",
    "\n",
    "    def rear(self):\n",
    "        if len(self.queue)>0:\n",
    "            return self.queue[-1]\n",
    "        else:\n",
    "            print(\"Empty list\")\n",
    "\n",
    "            \n",
    "        "
   ]
  },
  {
   "cell_type": "code",
   "execution_count": 8,
   "metadata": {},
   "outputs": [
    {
     "name": "stdout",
     "output_type": "stream",
     "text": [
      "204\n",
      "201\n"
     ]
    }
   ],
   "source": [
    "queue = Queue(200)\n",
    "queue.enqueue(201)\n",
    "queue.enqueue(202)\n",
    "queue.enqueue(203)\n",
    "queue.enqueue(204)\n",
    "\n",
    "print(queue.front())\n",
    "print(queue.rear())"
   ]
  },
  {
   "cell_type": "markdown",
   "metadata": {},
   "source": [
    "Practice"
   ]
  },
  {
   "cell_type": "code",
   "execution_count": 48,
   "metadata": {},
   "outputs": [],
   "source": [
    "class Qlist:\n",
    "    def __init__(self, value):\n",
    "        self.queue = deque([value])\n",
    "        \n",
    "    def enqueue(self,value):\n",
    "        self.queue.appendleft(value)\n",
    "    \n",
    "    def front(self):\n",
    "        if len(self.queue)>0:\n",
    "            return self.queue[0]\n",
    "        else:\n",
    "            print(\"error empty quwuuw\")\n",
    "        \n",
    "    def rear(self):\n",
    "        if len(self.queue)>0:\n",
    "            return self.queue[-1]\n",
    "        else:\n",
    "            print(\"error empty quwuuw\")\n",
    "       \n",
    "    def printall(self):\n",
    "       for value in self.queue:\n",
    "            print(value)\n",
    "    "
   ]
  },
  {
   "cell_type": "code",
   "execution_count": 52,
   "metadata": {},
   "outputs": [
    {
     "name": "stdout",
     "output_type": "stream",
     "text": [
      "203\n",
      "200\n",
      "201\n",
      "None\n"
     ]
    }
   ],
   "source": [
    "quw = Qlist(201)\n",
    "quw.enqueue(200)\n",
    "quw.enqueue(203)\n",
    "\n",
    "\n",
    "print(quw.printall())"
   ]
  }
 ],
 "metadata": {
  "kernelspec": {
   "display_name": "Python 3",
   "language": "python",
   "name": "python3"
  },
  "language_info": {
   "codemirror_mode": {
    "name": "ipython",
    "version": 3
   },
   "file_extension": ".py",
   "mimetype": "text/x-python",
   "name": "python",
   "nbconvert_exporter": "python",
   "pygments_lexer": "ipython3",
   "version": "3.12.1"
  }
 },
 "nbformat": 4,
 "nbformat_minor": 2
}
